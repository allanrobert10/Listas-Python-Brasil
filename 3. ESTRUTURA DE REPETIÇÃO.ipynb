{
 "cells": [
  {
   "cell_type": "markdown",
   "id": "1e643d69",
   "metadata": {},
   "source": [
    "##### Exercícios Listas Python Brasil\n",
    "https://wiki.python.org.br/EstruturaDeRepeticao"
   ]
  },
  {
   "cell_type": "code",
   "execution_count": null,
   "id": "79e4f7a2",
   "metadata": {},
   "outputs": [],
   "source": [
    "# QUESTÃO 01: Faça um programa que peça uma nota, entre zero e dez. Mostre uma mensagem caso o valor seja inválido e \n",
    "# continue pedindo até que o usuário informe um valor válido.\n",
    "\n",
    "while True:\n",
    "    nota = int(input('Informe uma nota entre 0 e 10: '))\n",
    "    if nota >= 0 and nota <=10:\n",
    "        break\n",
    "    else:\n",
    "        print('Valor inválido')\n",
    "        continue"
   ]
  },
  {
   "cell_type": "code",
   "execution_count": null,
   "id": "0f956b78",
   "metadata": {},
   "outputs": [],
   "source": [
    "# QUESTÃO 02: Faça um programa que leia um nome de usuário e a sua senha e não aceite a senha igual ao nome do usuário, \n",
    "# mostrando uma mensagem de erro e voltando a pedir as informações.\n",
    "\n",
    "while True:\n",
    "    usuario = input('Informe o nome de usuário: ')\n",
    "    senha = input('Informe a senha: ')\n",
    "    if usuario.upper() == senha.upper():\n",
    "        print('\\nERRO. TENTE NOVAMENTE!')\n",
    "        continue\n",
    "    else:\n",
    "        break"
   ]
  },
  {
   "cell_type": "code",
   "execution_count": null,
   "id": "4fc0a038",
   "metadata": {},
   "outputs": [],
   "source": [
    "# QUESTÃO 03: Faça um programa que leia e valide as seguintes informações:\n",
    "'''\n",
    "Nome: maior que 3 caracteres;\n",
    "Idade: entre 0 e 150;\n",
    "Salário: maior que zero;\n",
    "Sexo: 'f' ou 'm';\n",
    "Estado Civil: 's', 'c', 'v', 'd';\n",
    "'''\n",
    "\n",
    "while True:\n",
    "    nome = input('Informe o nome: ')\n",
    "    if len(nome) <= 3:\n",
    "        continue\n",
    "    else:\n",
    "        break\n",
    "\n",
    "while True:\n",
    "    idade = int(input('Informe a idade: '))\n",
    "    if idade < 0 or idade > 150:\n",
    "        continue\n",
    "    else:\n",
    "        break\n",
    "        \n",
    "while True:   \n",
    "    salario = float(input('Informe o salario: '))\n",
    "    if salario < 0:\n",
    "        continue\n",
    "    else:\n",
    "        break\n",
    "        \n",
    "while True:   \n",
    "    sexo = input('Informe o sexo: ')\n",
    "    if sexo.upper() == 'F' or sexo.upper() == 'M':\n",
    "        break\n",
    "    else:\n",
    "        continue\n",
    "\n",
    "while True: \n",
    "    print('\\nInforme seu estado civil: \\ns para solteiro(a) \\nc para casado(a) \\nv para viúvo(a) \\nd para divorciado(a)')\n",
    "    estado_civil = input('s,c,v ou d? ')\n",
    "    if estado_civil.upper() == 'S' or estado_civil.upper() == 'C' or estado_civil.upper() == 'V' or estado_civil.upper() == 'D':\n",
    "        break\n",
    "    else:\n",
    "        print('ERRO. TENTE NOVAMENTE!')\n",
    "        continue"
   ]
  },
  {
   "cell_type": "code",
   "execution_count": 5,
   "id": "46b02639",
   "metadata": {},
   "outputs": [
    {
     "name": "stdout",
     "output_type": "stream",
     "text": [
      "Após 63 anos a população do país A ultrapassou ou igualou a população do país B.\n",
      "População do país A: {populacao_a}\n",
      "População do país B: {populacao_b}\n"
     ]
    }
   ],
   "source": [
    "# QUESTÃO 04: Supondo que a população de um país A seja da ordem de 80000 habitantes com uma taxa anual de crescimento de \n",
    "# 3% e que a população de B seja 200000 habitantes com uma taxa de crescimento de 1.5%. Faça um programa que calcule e \n",
    "# escreva o número de anos necessários para que a população do país A ultrapasse ou iguale a população do país B, mantidas \n",
    "# as taxas de crescimento.\n",
    "\n",
    "populacao_a = 80000\n",
    "taxa_a = 0.03\n",
    "\n",
    "populacao_b = 200000\n",
    "taxa_b = 0.015\n",
    "\n",
    "anos = 0\n",
    "\n",
    "while populacao_a < populacao_b:\n",
    "    populacao_a += populacao_a * taxa_a\n",
    "    populacao_b += populacao_b * taxa_b\n",
    "    anos += 1\n",
    "    \n",
    "print(f'Após {anos} anos a população do país A ultrapassou ou igualou a população do país B.')\n",
    "print('População do país A: {populacao_a}')\n",
    "print('População do país B: {populacao_b}')\n"
   ]
  },
  {
   "cell_type": "code",
   "execution_count": null,
   "id": "428caeab",
   "metadata": {},
   "outputs": [],
   "source": [
    "# QUESTÃO 05: Altere o programa anterior permitindo ao usuário informar as populações e as taxas de crescimento iniciais. \n",
    "# Valide a entrada e permita repetir a operação.\n",
    "\n",
    "while True:\n",
    "    "
   ]
  },
  {
   "cell_type": "code",
   "execution_count": null,
   "id": "3f9d18a9",
   "metadata": {},
   "outputs": [],
   "source": [
    "# QUESTÃO 06: Faça um programa que imprima na tela os números de 1 a 20, um abaixo do outro. Depois modifique o programa para \n",
    "# que ele mostre os números um ao lado do outro."
   ]
  },
  {
   "cell_type": "code",
   "execution_count": null,
   "id": "d6379a50",
   "metadata": {},
   "outputs": [],
   "source": [
    "# QUESTÃO 07: Faça um programa que leia 5 números e informe o maior número."
   ]
  },
  {
   "cell_type": "code",
   "execution_count": null,
   "id": "f322a842",
   "metadata": {},
   "outputs": [],
   "source": [
    "# QUESTÃO 08:"
   ]
  },
  {
   "cell_type": "code",
   "execution_count": null,
   "id": "778f3e76",
   "metadata": {},
   "outputs": [],
   "source": [
    "# QUESTÃO 09:"
   ]
  },
  {
   "cell_type": "code",
   "execution_count": null,
   "id": "7918768f",
   "metadata": {},
   "outputs": [],
   "source": [
    "# QUESTÃO 10:"
   ]
  },
  {
   "cell_type": "code",
   "execution_count": null,
   "id": "123032a1",
   "metadata": {},
   "outputs": [],
   "source": [
    "# QUESTÃO 11:"
   ]
  },
  {
   "cell_type": "code",
   "execution_count": null,
   "id": "5f2d2e74",
   "metadata": {},
   "outputs": [],
   "source": [
    "# QUESTÃO 12:"
   ]
  },
  {
   "cell_type": "code",
   "execution_count": null,
   "id": "9b70c326",
   "metadata": {},
   "outputs": [],
   "source": [
    "# QUESTÃO 13:"
   ]
  },
  {
   "cell_type": "code",
   "execution_count": null,
   "id": "99308017",
   "metadata": {},
   "outputs": [],
   "source": [
    "# QUESTÃO 14:"
   ]
  },
  {
   "cell_type": "code",
   "execution_count": null,
   "id": "173e6360",
   "metadata": {},
   "outputs": [],
   "source": [
    "# QUESTÃO 15:"
   ]
  },
  {
   "cell_type": "code",
   "execution_count": null,
   "id": "d7d98cbc",
   "metadata": {},
   "outputs": [],
   "source": [
    "# QUESTÃO 16:"
   ]
  },
  {
   "cell_type": "code",
   "execution_count": null,
   "id": "7c30de3e",
   "metadata": {},
   "outputs": [],
   "source": [
    "# QUESTÃO 17:"
   ]
  },
  {
   "cell_type": "code",
   "execution_count": null,
   "id": "668c130e",
   "metadata": {},
   "outputs": [],
   "source": [
    "# QUESTÃO 18:"
   ]
  },
  {
   "cell_type": "code",
   "execution_count": null,
   "id": "a34e43d6",
   "metadata": {},
   "outputs": [],
   "source": [
    "# QUESTÃO 19:"
   ]
  },
  {
   "cell_type": "code",
   "execution_count": null,
   "id": "32df7dfb",
   "metadata": {},
   "outputs": [],
   "source": [
    "# QUESTÃO 20:"
   ]
  }
 ],
 "metadata": {
  "kernelspec": {
   "display_name": "Python 3 (ipykernel)",
   "language": "python",
   "name": "python3"
  },
  "language_info": {
   "codemirror_mode": {
    "name": "ipython",
    "version": 3
   },
   "file_extension": ".py",
   "mimetype": "text/x-python",
   "name": "python",
   "nbconvert_exporter": "python",
   "pygments_lexer": "ipython3",
   "version": "3.10.9"
  }
 },
 "nbformat": 4,
 "nbformat_minor": 5
}
