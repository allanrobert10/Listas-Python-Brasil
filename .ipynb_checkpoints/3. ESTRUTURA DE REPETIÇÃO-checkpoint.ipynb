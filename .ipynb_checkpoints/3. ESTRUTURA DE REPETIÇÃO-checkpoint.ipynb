{
 "cells": [
  {
   "cell_type": "markdown",
   "id": "1e643d69",
   "metadata": {},
   "source": [
    "##### Exercícios Listas Python Brasil\n",
    "https://wiki.python.org.br/EstruturaDeRepeticao"
   ]
  },
  {
   "cell_type": "code",
   "execution_count": null,
   "id": "79e4f7a2",
   "metadata": {},
   "outputs": [],
   "source": [
    "# QUESTÃO 01: Faça um programa que peça uma nota, entre zero e dez. Mostre uma mensagem caso o valor seja inválido e \n",
    "# continue pedindo até que o usuário informe um valor válido.\n",
    "\n"
   ]
  }
 ],
 "metadata": {
  "kernelspec": {
   "display_name": "Python 3 (ipykernel)",
   "language": "python",
   "name": "python3"
  },
  "language_info": {
   "codemirror_mode": {
    "name": "ipython",
    "version": 3
   },
   "file_extension": ".py",
   "mimetype": "text/x-python",
   "name": "python",
   "nbconvert_exporter": "python",
   "pygments_lexer": "ipython3",
   "version": "3.10.9"
  }
 },
 "nbformat": 4,
 "nbformat_minor": 5
}
