{
 "cells": [
  {
   "cell_type": "markdown",
   "id": "fa7ec149",
   "metadata": {},
   "source": [
    "##### Exercícios Listas Python Brasil\n",
    "https://wiki.python.org.br/ExerciciosListas"
   ]
  },
  {
   "cell_type": "code",
   "execution_count": null,
   "id": "5f33de74",
   "metadata": {},
   "outputs": [],
   "source": [
    "# QUESTÃO 01: Faça um Programa que leia um vetor de 5 números inteiros e mostre-os.\n",
    "vetor = []\n",
    "for i in range(0,5):\n",
    "    vetor.append(int(input(f'Digite o número {i+1}: ')))\n",
    "print(f'O vetor digitado é: {vetor}')"
   ]
  },
  {
   "cell_type": "code",
   "execution_count": null,
   "id": "5267d058",
   "metadata": {},
   "outputs": [],
   "source": [
    "# QUESTÃO 02: Faça um Programa que leia um vetor de 10 números reais e mostre-os na ordem inversa.\n",
    "\n",
    "vetor = []\n",
    "for i in range (0,10):\n",
    "    vetor.append(int(input(f\"Digite o número {i+1}: \")))\n",
    "print(vetor)\n",
    "print(vetor[::-1])"
   ]
  },
  {
   "cell_type": "code",
   "execution_count": null,
   "id": "d21d198f",
   "metadata": {},
   "outputs": [],
   "source": [
    "# QUESTÃO 03: Faça um Programa que leia 4 notas, mostre as notas e a média na tela.\n",
    "\n",
    "notas = []\n",
    "for i in range (0,4):\n",
    "    notas.append(float(input(f'Digite a nota {i+1}: ')))\n",
    "    media = sum(notas) / len(notas)\n",
    "print(f'As notas são {notas}')\n",
    "print(f'A média é {media}')"
   ]
  },
  {
   "cell_type": "code",
   "execution_count": null,
   "id": "919866aa",
   "metadata": {},
   "outputs": [],
   "source": [
    "# QUESTÃO 04: Faça um Programa que leia um vetor de 10 caracteres, e diga quantas consoantes foram lidas. \n",
    "# Imprima as consoantes.\n",
    "\n",
    "caracteres = []\n",
    "vogais = []\n",
    "consoantes = []\n",
    "\n",
    "for i in range (10):\n",
    "    caracteres.append(str(input(f\"Informe o {i+1}º caractere: \")))\n",
    "    if caracteres[i] in 'aeiou':\n",
    "        vogais.append(caracteres[i])\n",
    "    else:\n",
    "        consoantes.append(caracteres[i])\n",
    "print(f\"Vogais: {vogais}\")\n",
    "print(f\"Consoantes: {consoantes}\")"
   ]
  },
  {
   "cell_type": "code",
   "execution_count": null,
   "id": "df7e33ad",
   "metadata": {},
   "outputs": [],
   "source": [
    "# QUESTÃO 05: Faça um Programa que leia 20 números inteiros e armazene-os num vetor. \n",
    "# Armazene os números pares no vetor PAR e os números IMPARES no vetor impar. \n",
    "# Imprima os três vetores.\n",
    "\n",
    "numeros_inteiros = []\n",
    "numeros_pares = []\n",
    "numeros_impares = []\n",
    "\n",
    "for i in range (20):\n",
    "    numeros_inteiros.append(int(input(f\"Digite o {i+1}º número: \")))\n",
    "    if numeros_inteiros[i] % 2 == 0:\n",
    "        numeros_pares.append(numeros_inteiros[i])\n",
    "    else:\n",
    "        numeros_impares.append(numeros_inteiros[i])\n",
    "print(f\"Números inteiros: {numeros_inteiros}\")\n",
    "print(f\"Números pares: {numeros_pares}\")\n",
    "print(f\"Números Ímpares: {numeros_impares}\")"
   ]
  },
  {
   "cell_type": "code",
   "execution_count": null,
   "id": "bbdb6389",
   "metadata": {},
   "outputs": [],
   "source": [
    "# QUESTÃO 06: Faça um Programa que peça as quatro notas de 10 alunos, calcule e armazene num vetor \n",
    "# a média de cada aluno, imprima o número de alunos com média maior ou igual a 7.0.\n",
    "\n",
    "notas = 4\n",
    "alunos = 2\n",
    "\n",
    "for i in range(alunos):\n",
    "    notas_aluno = []\n",
    "    for j in range(4):\n",
    "        notas_aluno.append(float(input(f\"Informe a {j+1}ª nota do aluno {i+1}: \")))\n",
    "\n",
    "for i in range(alunos):\n",
    "    print(f\"Aluno {i+1}: notas: {notas_aluno}\")"
   ]
  }
 ],
 "metadata": {
  "kernelspec": {
   "display_name": "Python 3 (ipykernel)",
   "language": "python",
   "name": "python3"
  },
  "language_info": {
   "codemirror_mode": {
    "name": "ipython",
    "version": 3
   },
   "file_extension": ".py",
   "mimetype": "text/x-python",
   "name": "python",
   "nbconvert_exporter": "python",
   "pygments_lexer": "ipython3",
   "version": "3.10.9"
  }
 },
 "nbformat": 4,
 "nbformat_minor": 5
}
